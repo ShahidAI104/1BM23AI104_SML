{
 "cells": [
  {
   "cell_type": "code",
   "execution_count": 2,
   "id": "cf7c2985",
   "metadata": {},
   "outputs": [
    {
     "name": "stdout",
     "output_type": "stream",
     "text": [
      "\n",
      "Stochastic Gradient Descent:\n",
      "Intercept: 2091.1640, Slope: 11.5868\n"
     ]
    }
   ],
   "source": [
    "import numpy as np\n",
    "import pandas as pd\n",
    "import statsmodels.api as sm\n",
    "\n",
    "data = {\n",
    "    \"shear\": [2160.70, 1680.15, 2318.00, 2063.30, 2209.30, 2209.50, 1710.30, 1786.70,\n",
    "              2577.90, 2359.90, 2258.70, 2167.20, 2401.55, 1781.80, 2338.75, 1767.30,\n",
    "              2055.50, 2416.40, 2202.50, 2656.20, 1755.70],\n",
    "    \"age\": [15.50, 23.75, 8.00, 17.00, 5.50, 19.00, 24.00, 2.50, 7.50, 11.00, 13.00,\n",
    "            3.75, 25.00, 9.75, 22.00, 18.00, 6.00, 12.50, 2.00, 21.50, 0.00]\n",
    "}\n",
    "\n",
    "df = pd.DataFrame(data)\n",
    "y = df['shear'].values\n",
    "X = df['age'].values\n",
    "X = sm.add_constant(X) \n",
    "\n",
    "def stochastic_gradient_descent(X, y, learning_rate=0.001, n_iterations=100000):\n",
    "    m = len(y)\n",
    "    theta = np.array([3000, -0.1]) \n",
    "\n",
    "    for iteration in range(n_iterations):\n",
    "        random_index = np.random.randint(m)\n",
    "        xi = X[random_index:random_index+1]  \n",
    "        yi = y[random_index:random_index+1]  \n",
    "        \n",
    "       \n",
    "        gradients = 2 * xi.T.dot(xi.dot(theta) - yi)\n",
    "        \n",
    "        theta -= learning_rate * gradients.flatten() \n",
    "    return theta\n",
    "\n",
    "theta_sgd = stochastic_gradient_descent(X, y)\n",
    "\n",
    "print(\"\\nStochastic Gradient Descent:\")\n",
    "print(f\"Intercept: {theta_sgd[0]:.4f}, Slope: {theta_sgd[1]:.4f}\")\n"
   ]
  },
  {
   "cell_type": "code",
   "execution_count": null,
   "id": "3d65ae80",
   "metadata": {},
   "outputs": [],
   "source": []
  }
 ],
 "metadata": {
  "kernelspec": {
   "display_name": "Python 3 (ipykernel)",
   "language": "python",
   "name": "python3"
  },
  "language_info": {
   "codemirror_mode": {
    "name": "ipython",
    "version": 3
   },
   "file_extension": ".py",
   "mimetype": "text/x-python",
   "name": "python",
   "nbconvert_exporter": "python",
   "pygments_lexer": "ipython3",
   "version": "3.11.3"
  }
 },
 "nbformat": 4,
 "nbformat_minor": 5
}
